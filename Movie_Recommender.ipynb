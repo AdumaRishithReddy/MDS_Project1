{
 "cells": [
  {
   "cell_type": "code",
   "execution_count": 1,
   "id": "38fc72e1-e037-4534-b130-d3dee267c641",
   "metadata": {},
   "outputs": [],
   "source": [
    "import numpy as np\n",
    "import pandas as pd"
   ]
  },
  {
   "cell_type": "code",
   "execution_count": 2,
   "id": "10045f75-679f-48b4-baf6-5cc81c3eac8f",
   "metadata": {
    "tags": []
   },
   "outputs": [
    {
     "name": "stdout",
     "output_type": "stream",
     "text": [
      "5094\n"
     ]
    }
   ],
   "source": [
    "data=pd.read_csv(\"C:/Users/rishi/Documents/Coding/DS projects/movies.xlsx - ratings.csv\")\n",
    "people=data['userId'].max()\n",
    "movies=data['movieId'].max()\n",
    "print(movies)\n",
    "ratings = np.ndarray(\n",
    "    shape=(np.max(data['userId'].values),np.max(data['movieId'].values)),\n",
    "    dtype=np.uint8)\n",
    "ratings[data['userId'].values-1,data['movieId'].values-1] = data['rating'].values\n",
    "# ratings[np.max(data['userId'].values),ids]="
   ]
  },
  {
   "cell_type": "code",
   "execution_count": 3,
   "id": "a648a6e7-35ad-4427-a60d-bb3cce1b6312",
   "metadata": {},
   "outputs": [],
   "source": [
    "norm_rat_mean=ratings-np.asarray([(np.mean(ratings,1))]).T\n",
    "norm_rat=norm_rat_mean.T/np.sqrt(ratings.shape[0]-1)\n",
    "U,S,V= np.linalg.svd(norm_rat)"
   ]
  },
  {
   "cell_type": "code",
   "execution_count": 4,
   "id": "684697df-dde7-4f71-9b6f-abef32f93449",
   "metadata": {},
   "outputs": [
    {
     "name": "stdout",
     "output_type": "stream",
     "text": [
      "(5094, 7120)\n",
      "(815508, 4)\n"
     ]
    }
   ],
   "source": [
    "print(norm_rat.shape)\n",
    "print(data.shape)"
   ]
  },
  {
   "cell_type": "code",
   "execution_count": 5,
   "id": "258a6503-2349-4587-81c0-afd21cfb2c26",
   "metadata": {},
   "outputs": [],
   "source": [
    "dat2=pd.read_csv(\"C:/Users/rishi/Documents/Coding/DS projects/movies.xlsx - movie.csv\")"
   ]
  },
  {
   "cell_type": "code",
   "execution_count": 6,
   "id": "6b3f8260-a2d9-4215-b1c4-cd8e00f60598",
   "metadata": {},
   "outputs": [],
   "source": [
    "def similar(data,movie,top_n=10):\n",
    "    index=movie-1 #movies indexed from 1\n",
    "    movie_rat=data[index,:]\n",
    "    # print(data.shape)\n",
    "    magnitude = np.sqrt(np.einsum('ij, ij -> i', data, data))\n",
    "    # print(\"Data:\",np.sqrt(np.sum(np.square(data[0]))),magnitude[0]) \n",
    "    similarity=np.dot(movie_rat,data.T)/(magnitude[index]*magnitude)\n",
    "    sort_ind=np.argsort(-similarity)\n",
    "    return sort_ind[:top_n]"
   ]
  },
  {
   "cell_type": "code",
   "execution_count": 7,
   "id": "fec5f04e-6829-4fc8-8c04-de9c221a902d",
   "metadata": {},
   "outputs": [],
   "source": [
    "import warnings\n",
    "warnings.filterwarnings(\"ignore\", category=DeprecationWarning) "
   ]
  },
  {
   "cell_type": "code",
   "execution_count": 8,
   "id": "8af80868-2706-4f49-aa0b-b2d660153203",
   "metadata": {},
   "outputs": [],
   "source": [
    "def print_sim(data,movie_id,sim_ind):\n",
    "  # simi=[]\n",
    "  print(\"Recommendation for person\")\n",
    "  recom=0\n",
    "  for id in sim_ind:\n",
    "    # print(\"person:\",id)\n",
    "    for i in range(len(ratings[id])):\n",
    "      if recom>15:\n",
    "        break\n",
    "      if(ratings[movie_id][i]==0 and ratings[id][i]>4):\n",
    "        simi.append(i)\n",
    "        recom+=1\n",
    "    # print(\"hi\")\n",
    "  for index in simi:\n",
    "  # print(index)\n",
    "      if(dat2[dat2['movieId']==index]['title'].values!=''):  \n",
    "          print(dat2[dat2['movieId']==index]['title'].values)  "
   ]
  },
  {
   "cell_type": "code",
   "execution_count": 17,
   "id": "2677058e-3a00-49c5-9f7d-1065c13b6212",
   "metadata": {},
   "outputs": [
    {
     "name": "stdout",
     "output_type": "stream",
     "text": [
      "Recommendation for person\n",
      "['When Night Is Falling (1995)']\n",
      "['Jury Duty (1995)']\n",
      "['Circle of Friends (1995)']\n",
      "['Kiss of Death (1995)']\n",
      "['Specialist, The (1994)']\n",
      "['Santa Clause, The (1994)']\n",
      "['Fresh (1994)']\n",
      "['Made in America (1993)']\n",
      "['Sliver (1993)']\n",
      "['Batman (1989)']\n",
      "['Crows and Sparrows (Wuya yu maque) (1949)']\n",
      "['Vertigo (1958)']\n",
      "['Citizen Kane (1941)']\n",
      "['Around the World in 80 Days (1956)']\n",
      "[\"William Shakespeare's Romeo + Juliet (1996)\"]\n"
     ]
    }
   ],
   "source": [
    "k = 500\n",
    "user_id = 3 # (getting an id from movies.dat)\n",
    "top_n = 10\n",
    "sliced = U[:, :k] # representative data\n",
    "# print(V.shape)\n",
    "indexes =similar(sliced, user_id, top_n)\n",
    "simi=[]\n",
    "#Printing the top N similar movies\n",
    "print_sim(data, user_id, indexes)\n",
    "# for index in simi:\n",
    "#   print(index)"
   ]
  },
  {
   "cell_type": "code",
   "execution_count": null,
   "id": "72cb5c4b-9f29-4abd-a810-65827a187aff",
   "metadata": {},
   "outputs": [],
   "source": []
  }
 ],
 "metadata": {
  "kernelspec": {
   "display_name": "Python 3 (ipykernel)",
   "language": "python",
   "name": "python3"
  },
  "language_info": {
   "codemirror_mode": {
    "name": "ipython",
    "version": 3
   },
   "file_extension": ".py",
   "mimetype": "text/x-python",
   "name": "python",
   "nbconvert_exporter": "python",
   "pygments_lexer": "ipython3",
   "version": "3.9.12"
  }
 },
 "nbformat": 4,
 "nbformat_minor": 5
}
